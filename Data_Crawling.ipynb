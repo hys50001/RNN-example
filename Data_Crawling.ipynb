{
 "cells": [
  {
   "cell_type": "code",
   "execution_count": null,
   "metadata": {},
   "outputs": [],
   "source": [
    "from bs4 import BeautifulSoup\n",
    "from selenium import webdriver\n",
    "import pandas as pd \n",
    "import datetime\n",
    "\n",
    "driver = webdriver.Chrome(\"C:/Users/황윤섭/Desktop/chromedriver\")\n",
    "delay_time = 3\n",
    "driver.implicitly_wait(delay_time)\n",
    "\n",
    "URL = 'https://book.naver.com/search/search.nhn?publishStartDay=&publishEndDay=&categoryId=250&serviceSm=advbook.basic&ic=service.summary&title=&author=&publisher=&isbn=&toc=1&subject=&cate1Depth=250&cate2Depth=&cate3Depth=&cate4Depth=&publishStartYear=&publishStartMonth=&publishEndYear=&publishEndMonth=&x=12&y=18&page='\n",
    "K=[]\n",
    "i=1\n",
    "B=''\n",
    "\n",
    "while(len(K)!=35000):\n",
    "            \n",
    "    NewURL=URL+str(i)\n",
    "    driver.get(NewURL)\n",
    "            \n",
    "    html = driver.page_source\n",
    "    soup = BeautifulSoup(html, 'html.parser')\n",
    "    \n",
    "    \n",
    "    for href in soup.find(\"ul\", class_=\"basic\").find_all(\"dt\"):\n",
    "        \n",
    "            driver.get(href.find(\"a\")[\"href\"])\n",
    "            html = driver.page_source\n",
    "            soup = BeautifulSoup(html, 'html.parser')\n",
    "             \n",
    "            A = soup.select('div.dsc > p')\n",
    "            \n",
    "            if(A!=[]):\n",
    "                A = A[0].get_text()\n",
    "                A = A.replace(\",\",\"\")\n",
    "                \n",
    "                \n",
    "                \n",
    "            B1= soup.select('li.select > a')\n",
    "            \n",
    "            if(B1!=[]):\n",
    "                \n",
    "                for list in B1:\n",
    "                    B+=list.text.strip()\n",
    "                \n",
    "            \n",
    "            if(type(A)==str and type(B)==str):\n",
    "                K1=A+','+B\n",
    "                K.append(K1)\n",
    "            \n",
    "            B=''\n",
    "        \n",
    "        \n",
    "        \n",
    "    i+=1           "
   ]
  },
  {
   "cell_type": "code",
   "execution_count": null,
   "metadata": {},
   "outputs": [],
   "source": [
    "import pandas as pd\n",
    "kk=pd.DataFrame(K)\n",
    "kk=kk[0].str.split(',', expand  = True)\n",
    "kk.columns=['책소개','카테고리']\n",
    "kk\n",
    "kk.to_excel('C:/Users/황윤섭/Desktop/과학공학.xlsx')"
   ]
  },
  {
   "cell_type": "code",
   "execution_count": null,
   "metadata": {},
   "outputs": [],
   "source": [
    "kk.to_excel('C:/Users/황윤섭/Desktop/과학공학.xlsx')"
   ]
  },
  {
   "cell_type": "code",
   "execution_count": null,
   "metadata": {},
   "outputs": [],
   "source": []
  }
 ],
 "metadata": {
  "kernelspec": {
   "display_name": "Python 3",
   "language": "python",
   "name": "python3"
  },
  "language_info": {
   "codemirror_mode": {
    "name": "ipython",
    "version": 3
   },
   "file_extension": ".py",
   "mimetype": "text/x-python",
   "name": "python",
   "nbconvert_exporter": "python",
   "pygments_lexer": "ipython3",
   "version": "3.7.6"
  }
 },
 "nbformat": 4,
 "nbformat_minor": 4
}
